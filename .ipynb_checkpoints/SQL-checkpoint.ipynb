{
 "cells": [
  {
   "cell_type": "code",
   "execution_count": 1,
   "id": "6f64d497-ef1e-439d-81be-27fbd419b42b",
   "metadata": {
    "tags": []
   },
   "outputs": [
    {
     "name": "stdout",
     "output_type": "stream",
     "text": [
      "Requirement already satisfied: ipython-sql in /opt/conda/lib/python3.10/site-packages (0.5.0)\n",
      "Requirement already satisfied: prettytable in /opt/conda/lib/python3.10/site-packages (from ipython-sql) (3.7.0)\n",
      "Requirement already satisfied: sqlalchemy>=2.0 in /opt/conda/lib/python3.10/site-packages (from ipython-sql) (2.0.7)\n",
      "Requirement already satisfied: ipython-genutils in /opt/conda/lib/python3.10/site-packages (from ipython-sql) (0.2.0)\n",
      "Requirement already satisfied: ipython in /opt/conda/lib/python3.10/site-packages (from ipython-sql) (8.11.0)\n",
      "Requirement already satisfied: sqlparse in /opt/conda/lib/python3.10/site-packages (from ipython-sql) (0.4.4)\n",
      "Requirement already satisfied: six in /opt/conda/lib/python3.10/site-packages (from ipython-sql) (1.16.0)\n",
      "Requirement already satisfied: typing-extensions>=4.2.0 in /opt/conda/lib/python3.10/site-packages (from sqlalchemy>=2.0->ipython-sql) (4.5.0)\n",
      "Requirement already satisfied: greenlet!=0.4.17 in /opt/conda/lib/python3.10/site-packages (from sqlalchemy>=2.0->ipython-sql) (2.0.2)\n",
      "Requirement already satisfied: prompt-toolkit!=3.0.37,<3.1.0,>=3.0.30 in /opt/conda/lib/python3.10/site-packages (from ipython->ipython-sql) (3.0.38)\n",
      "Requirement already satisfied: matplotlib-inline in /opt/conda/lib/python3.10/site-packages (from ipython->ipython-sql) (0.1.6)\n",
      "Requirement already satisfied: traitlets>=5 in /opt/conda/lib/python3.10/site-packages (from ipython->ipython-sql) (5.9.0)\n",
      "Requirement already satisfied: pygments>=2.4.0 in /opt/conda/lib/python3.10/site-packages (from ipython->ipython-sql) (2.14.0)\n",
      "Requirement already satisfied: jedi>=0.16 in /opt/conda/lib/python3.10/site-packages (from ipython->ipython-sql) (0.18.2)\n",
      "Requirement already satisfied: backcall in /opt/conda/lib/python3.10/site-packages (from ipython->ipython-sql) (0.2.0)\n",
      "Requirement already satisfied: pexpect>4.3 in /opt/conda/lib/python3.10/site-packages (from ipython->ipython-sql) (4.8.0)\n",
      "Requirement already satisfied: stack-data in /opt/conda/lib/python3.10/site-packages (from ipython->ipython-sql) (0.6.2)\n",
      "Requirement already satisfied: pickleshare in /opt/conda/lib/python3.10/site-packages (from ipython->ipython-sql) (0.7.5)\n",
      "Requirement already satisfied: decorator in /opt/conda/lib/python3.10/site-packages (from ipython->ipython-sql) (5.1.1)\n",
      "Requirement already satisfied: wcwidth in /opt/conda/lib/python3.10/site-packages (from prettytable->ipython-sql) (0.2.6)\n",
      "Requirement already satisfied: parso<0.9.0,>=0.8.0 in /opt/conda/lib/python3.10/site-packages (from jedi>=0.16->ipython->ipython-sql) (0.8.3)\n",
      "Requirement already satisfied: ptyprocess>=0.5 in /opt/conda/lib/python3.10/site-packages (from pexpect>4.3->ipython->ipython-sql) (0.7.0)\n",
      "Requirement already satisfied: asttokens>=2.1.0 in /opt/conda/lib/python3.10/site-packages (from stack-data->ipython->ipython-sql) (2.2.1)\n",
      "Requirement already satisfied: pure-eval in /opt/conda/lib/python3.10/site-packages (from stack-data->ipython->ipython-sql) (0.2.2)\n",
      "Requirement already satisfied: executing>=1.2.0 in /opt/conda/lib/python3.10/site-packages (from stack-data->ipython->ipython-sql) (1.2.0)\n",
      "\u001b[33mWARNING: There was an error checking the latest version of pip.\u001b[0m\u001b[33m\n",
      "\u001b[0m"
     ]
    }
   ],
   "source": [
    "!pip install ipython-sql\n",
    "%load_ext sql"
   ]
  },
  {
   "cell_type": "code",
   "execution_count": 2,
   "id": "0e34766b-c9df-49f4-9f13-61e665c3c4c0",
   "metadata": {
    "tags": []
   },
   "outputs": [
    {
     "name": "stdout",
     "output_type": "stream",
     "text": [
      "[('postgres',), ('jovyan',), ('template1',), ('template0',)]\n"
     ]
    }
   ],
   "source": [
    "import psycopg2\n",
    "\n",
    "with psycopg2.connect(\n",
    "    dbname='jovyan'\n",
    ") as conn:\n",
    "    with conn.cursor() as cur:\n",
    "        cur.execute('SELECT datname FROM pg_database')\n",
    "        records = cur.fetchall()\n",
    "        \n",
    "print(records)"
   ]
  },
  {
   "cell_type": "code",
   "execution_count": null,
   "id": "e39c3104-820e-494f-abcd-405eaa6f7295",
   "metadata": {},
   "outputs": [],
   "source": [
    "%%sql postgresql:///jovyan\n",
    "CREATE TABLE Departments (\n",
    "    department_id smallint NOT NULL PRIMARY KEY,\n",
    "    department_name text NOT NULL,\n",
    "    manager_id smallint\n",
    ");\n",
    "\n",
    "CREATE TABLE Employees (\n",
    "    employee_id smallint UNIQUE NOT NULL,\n",
    "    first_name text NOT NULL,\n",
    "    last_name text NOT NULL,\n",
    "    hire_date date NOT NULL,\n",
    "    job_id varchar(20),\n",
    "    manager_id smallint,\n",
    "    department_id smallint,\n",
    "    FOREIGN KEY (department_id) REFERENCES Departments(department_id)\n",
    ");"
   ]
  },
  {
   "cell_type": "code",
   "execution_count": null,
   "id": "fa05a454-b4e7-4e45-af8f-bb7643144d8f",
   "metadata": {},
   "outputs": [],
   "source": [
    "%%sql postgresql:///jovyan\n",
    "INSERT INTO Departments VALUES ('10','Administration','200');\n",
    "INSERT INTO Departments VALUES ('30','Purchasing','114');\n",
    "INSERT INTO Departments VALUES ('40','HumanResources','203');\n",
    "INSERT INTO Departments VALUES ('50','Shipping','121');\n",
    "INSERT INTO Departments VALUES ('60','IT','103');\n",
    "INSERT INTO Departments VALUES ('70','PublicRelations','204');\n",
    "INSERT INTO Departments VALUES ('80','Sales','145');\n",
    "INSERT INTO Departments VALUES ('90','Executive','100');\n",
    "INSERT INTO Departments VALUES ('100','Finance','108');\n",
    "INSERT INTO Departments VALUES ('110','Accounting','205')"
   ]
  },
  {
   "cell_type": "code",
   "execution_count": null,
   "id": "ed511b2d-4868-4056-ad0f-788a4cca3dab",
   "metadata": {},
   "outputs": [],
   "source": [
    "%%sql postgresql:///jovyan\n",
    "INSERT INTO Employees VALUES ('100','Steven','King','1987-06-17','AD_PRES','0','90');\n",
    "INSERT INTO Employees VALUES ('101','Neena', 'Kochhar','1987-06-18','AD_VP','100','90');\n",
    "INSERT INTO Employees VALUES ('102','Lex','DeHaan','1987-06-19','AD_VP','100','90');\n",
    "INSERT INTO Employees VALUES ('103','Alexander','Hunold','1987-06-20','IT_PROG','102','60');\n",
    "INSERT INTO Employees VALUES ('107','Diana','Lorentz','1987-06-24','IT_PROG','103','60');\n",
    "INSERT INTO Employees VALUES ('108','Nancy','Greenberg','1987-06-25','FI_MGR','101','100');\n",
    "INSERT INTO Employees VALUES ('109','Daniel','Faviet','1987-06-26','FI_ACCOUNT','108','100');\n",
    "INSERT INTO Employees VALUES ('114','Den','Raphaely','1987-07-01','PU_MAN','100','30');\n",
    "INSERT INTO Employees VALUES ('118','Guy','Himuro','1987-07-05','PU_CLERK','114','30');\n",
    "INSERT INTO Employees VALUES ('144','Peter','Vargas','1987-07-31','ST_CLERK','114','50');\n",
    "INSERT INTO Employees VALUES ('145','John','Russell','1987-08-01','SA_MAN','100','80');\n",
    "INSERT INTO Employees VALUES ('146','Karen','Partners','1987-08-02','SA_MAN','100','80')"
   ]
  },
  {
   "cell_type": "code",
   "execution_count": null,
   "id": "eab5a44d-8b11-4bdb-82ed-880afb3d0434",
   "metadata": {},
   "outputs": [],
   "source": [
    "%%sql postgresql:///jovyan\n",
    "SELECT department_name, (e2.first_name||' '||e2.last_name) AS Manager_Name, COUNT(e1.employee_id) AS number_of_employees\n",
    "FROM Departments d\n",
    "LEFT JOIN Employees e1 USING (department_id)\n",
    "LEFT JOIN Employees e2 ON d.manager_id = e2.employee_id\n",
    "GROUP BY department_name, e2.first_name, e2.last_name\n",
    "ORDER BY department_name"
   ]
  }
 ],
 "metadata": {
  "kernelspec": {
   "display_name": "Python 3 (ipykernel)",
   "language": "python",
   "name": "python3"
  },
  "language_info": {
   "codemirror_mode": {
    "name": "ipython",
    "version": 3
   },
   "file_extension": ".py",
   "mimetype": "text/x-python",
   "name": "python",
   "nbconvert_exporter": "python",
   "pygments_lexer": "ipython3",
   "version": "3.10.8"
  }
 },
 "nbformat": 4,
 "nbformat_minor": 5
}
