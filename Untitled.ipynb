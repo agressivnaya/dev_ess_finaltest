{
 "cells": [
  {
   "cell_type": "code",
   "execution_count": 8,
   "id": "c101a460-e323-4966-8ee9-9499244e50a5",
   "metadata": {
    "tags": []
   },
   "outputs": [],
   "source": [
    "import pandas as pd\n",
    "import matplotlib.pyplot as plt"
   ]
  },
  {
   "cell_type": "code",
   "execution_count": 9,
   "id": "15187b03-ee09-4a30-960d-d1408cf5bfc5",
   "metadata": {
    "tags": []
   },
   "outputs": [],
   "source": [
    "data = {\n",
    "    'student_name': ['Andrey Ivanov', 'Stepan Petrov', 'Bill Gates', 'John Golt', 'Michael Jackson'],\n",
    "    'attendance (%)': [100, 89, 34, 52, 77],\n",
    "    'mark (points)': [95, 80, 100, 70, 40]\n",
    "}"
   ]
  },
  {
   "cell_type": "code",
   "execution_count": 10,
   "id": "c20323f0-377c-4a80-9cc5-ba03d605f582",
   "metadata": {
    "tags": []
   },
   "outputs": [
    {
     "name": "stdout",
     "output_type": "stream",
     "text": [
      "      student_name  attendance (%)  mark (points)\n",
      "0    Andrey Ivanov             100             95\n",
      "1    Stepan Petrov              89             80\n",
      "2       Bill Gates              34            100\n",
      "3        John Golt              52             70\n",
      "4  Michael Jackson              77             40\n"
     ]
    }
   ],
   "source": [
    "df = pd.DataFrame(data)\n",
    "print(df)"
   ]
  },
  {
   "cell_type": "code",
   "execution_count": 13,
   "id": "d7e10fe5-fd66-416a-a668-af0a9839fb47",
   "metadata": {
    "tags": []
   },
   "outputs": [
    {
     "data": {
      "image/png": "[encoded data removed]",
      "text/plain": [
       "<Figure size 500x300 with 1 Axes>"
      ]
     },
     "metadata": {},
     "output_type": "display_data"
    }
   ],
   "source": [
    "plt.figure(figsize=(5, 3))\n",
    "plt.scatter(df['attendance (%)'], df['mark (points)'], color='red', marker='o')\n",
    "plt.title('Correlation between Attendance and Marks')\n",
    "plt.xlabel('Attendance (%)')\n",
    "plt.ylabel('Mark (points)')\n",
    "plt.grid(True)\n",
    "\n",
    "plt.show()"
   ]
  },
  {
   "cell_type": "code",
   "execution_count": 1,
   "id": "6f2c13cd-e1b9-409a-b97a-438fefa396ae",
   "metadata": {
    "tags": []
   },
   "outputs": [
    {
     "name": "stdout",
     "output_type": "stream",
     "text": [
      "Requirement already satisfied: ipython-sql in /opt/conda/lib/python3.10/site-packages (0.5.0)\n",
      "Requirement already satisfied: sqlparse in /opt/conda/lib/python3.10/site-packages (from ipython-sql) (0.4.4)\n",
      "Requirement already satisfied: prettytable in /opt/conda/lib/python3.10/site-packages (from ipython-sql) (3.7.0)\n",
      "Requirement already satisfied: ipython-genutils in /opt/conda/lib/python3.10/site-packages (from ipython-sql) (0.2.0)\n",
      "Requirement already satisfied: ipython in /opt/conda/lib/python3.10/site-packages (from ipython-sql) (8.11.0)\n",
      "Requirement already satisfied: six in /opt/conda/lib/python3.10/site-packages (from ipython-sql) (1.16.0)\n",
      "Requirement already satisfied: sqlalchemy>=2.0 in /opt/conda/lib/python3.10/site-packages (from ipython-sql) (2.0.7)\n",
      "Requirement already satisfied: greenlet!=0.4.17 in /opt/conda/lib/python3.10/site-packages (from sqlalchemy>=2.0->ipython-sql) (2.0.2)\n",
      "Requirement already satisfied: typing-extensions>=4.2.0 in /opt/conda/lib/python3.10/site-packages (from sqlalchemy>=2.0->ipython-sql) (4.5.0)\n",
      "Requirement already satisfied: prompt-toolkit!=3.0.37,<3.1.0,>=3.0.30 in /opt/conda/lib/python3.10/site-packages (from ipython->ipython-sql) (3.0.38)\n",
      "Requirement already satisfied: traitlets>=5 in /opt/conda/lib/python3.10/site-packages (from ipython->ipython-sql) (5.9.0)\n",
      "Requirement already satisfied: pickleshare in /opt/conda/lib/python3.10/site-packages (from ipython->ipython-sql) (0.7.5)\n",
      "Requirement already satisfied: matplotlib-inline in /opt/conda/lib/python3.10/site-packages (from ipython->ipython-sql) (0.1.6)\n",
      "Requirement already satisfied: stack-data in /opt/conda/lib/python3.10/site-packages (from ipython->ipython-sql) (0.6.2)\n",
      "Requirement already satisfied: decorator in /opt/conda/lib/python3.10/site-packages (from ipython->ipython-sql) (5.1.1)\n",
      "Requirement already satisfied: backcall in /opt/conda/lib/python3.10/site-packages (from ipython->ipython-sql) (0.2.0)\n",
      "Requirement already satisfied: jedi>=0.16 in /opt/conda/lib/python3.10/site-packages (from ipython->ipython-sql) (0.18.2)\n",
      "Requirement already satisfied: pygments>=2.4.0 in /opt/conda/lib/python3.10/site-packages (from ipython->ipython-sql) (2.14.0)\n",
      "Requirement already satisfied: pexpect>4.3 in /opt/conda/lib/python3.10/site-packages (from ipython->ipython-sql) (4.8.0)\n",
      "Requirement already satisfied: wcwidth in /opt/conda/lib/python3.10/site-packages (from prettytable->ipython-sql) (0.2.6)\n",
      "Requirement already satisfied: parso<0.9.0,>=0.8.0 in /opt/conda/lib/python3.10/site-packages (from jedi>=0.16->ipython->ipython-sql) (0.8.3)\n",
      "Requirement already satisfied: ptyprocess>=0.5 in /opt/conda/lib/python3.10/site-packages (from pexpect>4.3->ipython->ipython-sql) (0.7.0)\n",
      "Requirement already satisfied: pure-eval in /opt/conda/lib/python3.10/site-packages (from stack-data->ipython->ipython-sql) (0.2.2)\n",
      "Requirement already satisfied: executing>=1.2.0 in /opt/conda/lib/python3.10/site-packages (from stack-data->ipython->ipython-sql) (1.2.0)\n",
      "Requirement already satisfied: asttokens>=2.1.0 in /opt/conda/lib/python3.10/site-packages (from stack-data->ipython->ipython-sql) (2.2.1)\n",
      "\u001b[33mWARNING: There was an error checking the latest version of pip.\u001b[0m\u001b[33m\n",
      "\u001b[0m"
     ]
    }
   ],
   "source": [
    "!pip install ipython-sql\n",
    "%load_ext sql"
   ]
  },
  {
   "cell_type": "code",
   "execution_count": 2,
   "id": "b00e52be-1c0d-4c22-b482-7de48440163a",
   "metadata": {
    "tags": []
   },
   "outputs": [
    {
     "name": "stdout",
     "output_type": "stream",
     "text": [
      "[('postgres',), ('jovyan',), ('template1',), ('template0',)]\n"
     ]
    }
   ],
   "source": [
    "import psycopg2\n",
    "\n",
    "with psycopg2.connect(\n",
    "    dbname='jovyan'\n",
    ") as conn:\n",
    "    with conn.cursor() as cur:\n",
    "        cur.execute('SELECT datname FROM pg_database')\n",
    "        records = cur.fetchall()\n",
    "        \n",
    "print(records)"
   ]
  },
  {
   "cell_type": "code",
   "execution_count": 3,
   "id": "f065daad-e346-49b9-938e-0616c1d1b809",
   "metadata": {
    "tags": []
   },
   "outputs": [
    {
     "name": "stdout",
     "output_type": "stream",
     "text": [
      "Done.\n",
      "Done.\n"
     ]
    },
    {
     "data": {
      "text/plain": [
       "[]"
      ]
     },
     "execution_count": 3,
     "metadata": {},
     "output_type": "execute_result"
    }
   ],
   "source": [
    "%%sql postgresql:///jovyan\n",
    "CREATE TABLE Departments (\n",
    "    department_id smallint NOT NULL PRIMARY KEY,\n",
    "    department_name text NOT NULL,\n",
    "    manager_id smallint\n",
    ");\n",
    "\n",
    "CREATE TABLE Employees (\n",
    "    employee_id smallint UNIQUE NOT NULL,\n",
    "    first_name text NOT NULL,\n",
    "    last_name text NOT NULL,\n",
    "    hire_date date NOT NULL,\n",
    "    job_id varchar(20),\n",
    "    manager_id smallint,\n",
    "    department_id smallint,\n",
    "    FOREIGN KEY (department_id) REFERENCES Departments(department_id)\n",
    ");"
   ]
  },
  {
   "cell_type": "code",
   "execution_count": 4,
   "id": "5c3322e0-0caf-4a26-b707-c817adfdd3b5",
   "metadata": {
    "tags": []
   },
   "outputs": [
    {
     "name": "stdout",
     "output_type": "stream",
     "text": [
      "1 rows affected.\n",
      "1 rows affected.\n",
      "1 rows affected.\n",
      "1 rows affected.\n",
      "1 rows affected.\n",
      "1 rows affected.\n",
      "1 rows affected.\n",
      "1 rows affected.\n",
      "1 rows affected.\n",
      "1 rows affected.\n"
     ]
    },
    {
     "data": {
      "text/plain": [
       "[]"
      ]
     },
     "execution_count": 4,
     "metadata": {},
     "output_type": "execute_result"
    }
   ],
   "source": [
    "%%sql postgresql:///jovyan\n",
    "INSERT INTO Departments VALUES ('10','Administration','200');\n",
    "INSERT INTO Departments VALUES ('30','Purchasing','114');\n",
    "INSERT INTO Departments VALUES ('40','HumanResources','203');\n",
    "INSERT INTO Departments VALUES ('50','Shipping','121');\n",
    "INSERT INTO Departments VALUES ('60','IT','103');\n",
    "INSERT INTO Departments VALUES ('70','PublicRelations','204');\n",
    "INSERT INTO Departments VALUES ('80','Sales','145');\n",
    "INSERT INTO Departments VALUES ('90','Executive','100');\n",
    "INSERT INTO Departments VALUES ('100','Finance','108');\n",
    "INSERT INTO Departments VALUES ('110','Accounting','205')"
   ]
  },
  {
   "cell_type": "code",
   "execution_count": 5,
   "id": "d28cfbe7-05ec-436b-8e4b-21c71ca2f7d9",
   "metadata": {
    "tags": []
   },
   "outputs": [
    {
     "name": "stdout",
     "output_type": "stream",
     "text": [
      "1 rows affected.\n",
      "1 rows affected.\n",
      "1 rows affected.\n",
      "1 rows affected.\n",
      "1 rows affected.\n",
      "1 rows affected.\n",
      "1 rows affected.\n",
      "1 rows affected.\n",
      "1 rows affected.\n",
      "1 rows affected.\n",
      "1 rows affected.\n",
      "1 rows affected.\n"
     ]
    },
    {
     "data": {
      "text/plain": [
       "[]"
      ]
     },
     "execution_count": 5,
     "metadata": {},
     "output_type": "execute_result"
    }
   ],
   "source": [
    "%%sql postgresql:///jovyan\n",
    "INSERT INTO Employees VALUES ('100','Steven','King','1987-06-17','AD_PRES','0','90');\n",
    "INSERT INTO Employees VALUES ('101','Neena', 'Kochhar','1987-06-18','AD_VP','100','90');\n",
    "INSERT INTO Employees VALUES ('102','Lex','DeHaan','1987-06-19','AD_VP','100','90');\n",
    "INSERT INTO Employees VALUES ('103','Alexander','Hunold','1987-06-20','IT_PROG','102','60');\n",
    "INSERT INTO Employees VALUES ('107','Diana','Lorentz','1987-06-24','IT_PROG','103','60');\n",
    "INSERT INTO Employees VALUES ('108','Nancy','Greenberg','1987-06-25','FI_MGR','101','100');\n",
    "INSERT INTO Employees VALUES ('109','Daniel','Faviet','1987-06-26','FI_ACCOUNT','108','100');\n",
    "INSERT INTO Employees VALUES ('114','Den','Raphaely','1987-07-01','PU_MAN','100','30');\n",
    "INSERT INTO Employees VALUES ('118','Guy','Himuro','1987-07-05','PU_CLERK','114','30');\n",
    "INSERT INTO Employees VALUES ('144','Peter','Vargas','1987-07-31','ST_CLERK','114','50');\n",
    "INSERT INTO Employees VALUES ('145','John','Russell','1987-08-01','SA_MAN','100','80');\n",
    "INSERT INTO Employees VALUES ('146','Karen','Partners','1987-08-02','SA_MAN','100','80')"
   ]
  },
  {
   "cell_type": "markdown",
   "id": "1b968861-e74a-45fa-8c99-cbb02041d6e2",
   "metadata": {},
   "source": [
    "Write a query which returns a grid: Department name, Manager Name and Number of employees working in each department. \n",
    "Order the output by Department name"
   ]
  },
  {
   "cell_type": "code",
   "execution_count": 6,
   "id": "2406d0c8-cae9-41ab-921c-0d7cddf003ba",
   "metadata": {
    "tags": []
   },
   "outputs": [
    {
     "name": "stdout",
     "output_type": "stream",
     "text": [
      "10 rows affected.\n"
     ]
    },
    {
     "data": {
      "text/html": [
       "<table>\n",
       "    <thead>\n",
       "        <tr>\n",
       "            <th>department_name</th>\n",
       "            <th>manager_name</th>\n",
       "            <th>number_of_employees</th>\n",
       "        </tr>\n",
       "    </thead>\n",
       "    <tbody>\n",
       "        <tr>\n",
       "            <td>Accounting</td>\n",
       "            <td>None</td>\n",
       "            <td>0</td>\n",
       "        </tr>\n",
       "        <tr>\n",
       "            <td>Administration</td>\n",
       "            <td>None</td>\n",
       "            <td>0</td>\n",
       "        </tr>\n",
       "        <tr>\n",
       "            <td>Executive</td>\n",
       "            <td>Steven King</td>\n",
       "            <td>3</td>\n",
       "        </tr>\n",
       "        <tr>\n",
       "            <td>Finance</td>\n",
       "            <td>Nancy Greenberg</td>\n",
       "            <td>2</td>\n",
       "        </tr>\n",
       "        <tr>\n",
       "            <td>HumanResources</td>\n",
       "            <td>None</td>\n",
       "            <td>0</td>\n",
       "        </tr>\n",
       "        <tr>\n",
       "            <td>IT</td>\n",
       "            <td>Alexander Hunold</td>\n",
       "            <td>2</td>\n",
       "        </tr>\n",
       "        <tr>\n",
       "            <td>PublicRelations</td>\n",
       "            <td>None</td>\n",
       "            <td>0</td>\n",
       "        </tr>\n",
       "        <tr>\n",
       "            <td>Purchasing</td>\n",
       "            <td>Den Raphaely</td>\n",
       "            <td>2</td>\n",
       "        </tr>\n",
       "        <tr>\n",
       "            <td>Sales</td>\n",
       "            <td>John Russell</td>\n",
       "            <td>2</td>\n",
       "        </tr>\n",
       "        <tr>\n",
       "            <td>Shipping</td>\n",
       "            <td>None</td>\n",
       "            <td>1</td>\n",
       "        </tr>\n",
       "    </tbody>\n",
       "</table>"
      ],
      "text/plain": [
       "[('Accounting', None, 0),\n",
       " ('Administration', None, 0),\n",
       " ('Executive', 'Steven King', 3),\n",
       " ('Finance', 'Nancy Greenberg', 2),\n",
       " ('HumanResources', None, 0),\n",
       " ('IT', 'Alexander Hunold', 2),\n",
       " ('PublicRelations', None, 0),\n",
       " ('Purchasing', 'Den Raphaely', 2),\n",
       " ('Sales', 'John Russell', 2),\n",
       " ('Shipping', None, 1)]"
      ]
     },
     "execution_count": 6,
     "metadata": {},
     "output_type": "execute_result"
    }
   ],
   "source": [
    "%%sql postgresql:///jovyan\n",
    "SELECT department_name, (e2.first_name||' '||e2.last_name) AS Manager_Name, COUNT(e1.employee_id) AS number_of_employees\n",
    "FROM Departments d\n",
    "LEFT JOIN Employees e1 USING (department_id)\n",
    "LEFT JOIN Employees e2 ON d.manager_id = e2.employee_id\n",
    "GROUP BY department_name, e2.first_name, e2.last_name\n",
    "ORDER BY department_name"
   ]
  },
  {
   "cell_type": "code",
   "execution_count": 3,
   "id": "bc44a34a-d131-4e89-8b02-bf60ca25f635",
   "metadata": {},
   "outputs": [],
   "source": [
    "def power_check(n, b):\n",
    "    if n == 1:\n",
    "        return True\n",
    "    if n < b or n % b != 0:\n",
    "        return False\n",
    "    return power_check(n // b, b)"
   ]
  },
  {
   "cell_type": "code",
   "execution_count": 7,
   "id": "648bc543-07a2-42c8-855b-b1f946261344",
   "metadata": {
    "tags": []
   },
   "outputs": [
    {
     "name": "stdout",
     "output_type": "stream",
     "text": [
      "True\n",
      "False\n"
     ]
    }
   ],
   "source": [
    "print(power_check(32, 2))\n",
    "print(power_check(120, 2))"
   ]
  },
  {
   "cell_type": "code",
   "execution_count": null,
   "id": "b2320f23-b573-4130-a37c-d9653b3f944c",
   "metadata": {},
   "outputs": [],
   "source": []
  }
 ],
 "metadata": {
  "kernelspec": {
   "display_name": "Python 3 (ipykernel)",
   "language": "python",
   "name": "python3"
  },
  "language_info": {
   "codemirror_mode": {
    "name": "ipython",
    "version": 3
   },
   "file_extension": ".py",
   "mimetype": "text/x-python",
   "name": "python",
   "nbconvert_exporter": "python",
   "pygments_lexer": "ipython3",
   "version": "3.10.8"
  }
 },
 "nbformat": 4,
 "nbformat_minor": 5
}
